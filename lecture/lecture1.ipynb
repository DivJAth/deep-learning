{
 "cells": [
  {
   "cell_type": "markdown",
   "metadata": {},
   "source": [
    "# Lecture 1: Applied deep learning\n",
    "\n",
    "## Introduction\n",
    "\n",
    "\"Deep learning\" is a specific flavor of machine learning that uses neural networks to approximate arbitrary functions to classify or regress data, or to serve as a controller. \n",
    "\n",
    "<center><img src=\"figs/ann_applications.png\" width=50%></center>\n",
    "\n",
    "While artificial neural networks have long time been one out of many go-to methods to address these problems, recent advances in computing, in particular graphical processing units (GPU) and the availability of large datasets, has led to the ability to train very, very large neural networks that have led to revolutionary results in many fields including computer vision, natural language processing, as well as video and speech processing."
   ]
  },
  {
   "cell_type": "markdown",
   "metadata": {},
   "source": [
    "Not too long ago, neural networks have been considered \"deep\" with more than 2 layers. Today, \"deep\" refers to neural networks with hundreds of layers or more. This is still shy of the human brain, or even tiny areas thereof, which contains 100 billion neurons, each with thousands of synapses connecting a single neuron to thousands of others. "
   ]
  },
  {
   "cell_type": "markdown",
   "metadata": {},
   "source": [
    "### Goal of this class\n",
    "\n",
    "The goal of this class is provide a headstart into machine learning with deep neural networks starting from the available open-source tools. As starting point serves the keras library, a Python interface to popular deep neural network tools Theano and Tensorflow, and examples from the book \"Deep Learning with Keras\".  \n",
    "\n",
    "The drawback of this approach is that the students will not be exposed to the theoretical foundations of deep learning to the extent that could be expected from a university graduate level course. Exploration of examples is therefore accompanied by reading the relevant literature and presenting them to class via Jupyter notebooks (this format).\n",
    "\n",
    "The practice of model development and training is learned by two mini-projects that involve applying deep learning tools to data from the <a href=\"https://archive.ics.uci.edu/ml/index.php\">UCI Machine learning repository</a> as well as a final project involving data from a current research project. "
   ]
  },
  {
   "cell_type": "markdown",
   "metadata": {},
   "source": [
    "### Grading\n",
    "\n",
    "The final grade will be computed using the following key:\n",
    "\n",
    "- 10% In-class participation\n",
    "- 15% Homework 1: Implementing a simple classification/regression problem\n",
    "- 15% Homework 2: Classification/regression on time series data\n",
    "- 20% Jupyter notebook summary of a selected paper\n",
    "- 40% Final project\n",
    "- Extra credit: narrated YouTube video\n",
    "\n",
    "All deliverables will need to be pushed as IPhython notebooks to a <a href=\"https://github.com/correll/deep-learning\">public github repository</a>. This repository is automatically rendered as a public Jupyter lab server, allowing everyone to run and temporarily modify (but not save) your work.\n",
    "\n",
    "As all deliverables are public, there is a strict late policy. Late submissions will be deducted one letter grade. "
   ]
  },
  {
   "cell_type": "markdown",
   "metadata": {},
   "source": [
    "### What you need\n",
    "\n",
    "- You will need Python 3 and a series of libraries that is listed <a href=\"https://github.com/correll/deep-learning/blob/master/requirements.txt\">here</a>\n",
    "- You will need a copy of <a href=\"https://jupyterlab.readthedocs.io/en/stable/getting_started/installation.html\">Jupyter Lab</a>\n",
    "on your personal machine\n",
    "- You will need a version of <a href=\"https://git-scm.com/book/en/v2/Getting-Started-Installing-Git\">git</a> to commit your notebook files to the class' repository\n"
   ]
  },
  {
   "cell_type": "markdown",
   "metadata": {},
   "source": [
    "## Artificial Neural Networks\n",
    "\n",
    "Artificial neural networks are inspired by neurons and synapses in the human brain and have been studied since the 1950ies. One of the earliest model is the <a href=\"https://en.wikipedia.org/wiki/Perceptron\">Perceptron</a>, which can classify an input vector $x$ of dimension $m$ to lie above or below a hyperplane defined by the weights $w$. Formally,\n",
    "\n",
    "\\begin{equation}\n",
    "f(x)=\\begin{cases}\n",
    "1 \\qquad wx+b > 0\\\\\n",
    "0 \\qquad otherwise\n",
    "\\end{cases}\n",
    "\\end{equation}\n",
    "\n",
    "Here, $wx=\\sum_{i=1}^mw_ix_i$ is the <a href=\"https://en.wikipedia.org/wiki/Dot_product\">dot product</a>. To better understand this, we will train a simple Perceptron on a very simple artificial dataset with $m=2$ so that it can be shown in a scatter plot. Note that $wx+b$ simplifies to $wx$ when preceeding $x$ with a '1', i.e. $x\\leftarrow [1 \\quad x]$. Then $w_0=b$, simplifying coding."
   ]
  },
  {
   "cell_type": "code",
   "execution_count": 288,
   "metadata": {},
   "outputs": [
    {
     "name": "stdout",
     "output_type": "stream",
     "text": [
      "The error is  0.0\n",
      "The weight vector is  [-0.07  0.05 -0.04]\n"
     ]
    },
    {
     "data": {
      "text/plain": [
       "[<matplotlib.lines.Line2D at 0x1185d47b8>]"
      ]
     },
     "execution_count": 288,
     "metadata": {},
     "output_type": "execute_result"
    },
    {
     "data": {
      "image/png": "[encoded data removed]",
      "text/plain": [
       "<Figure size 432x288 with 1 Axes>"
      ]
     },
     "metadata": {},
     "output_type": "display_data"
    }
   ],
   "source": [
    "import numpy as np\n",
    "import matplotlib.pyplot as plt \n",
    "\n",
    "%matplotlib inline \n",
    "\n",
    "# Synthetic data with data pairs x1,x2 in x and associated classes in d\n",
    "x=np.array([[2,1],[3,4],[3,3],[4,2],[3,1]])\n",
    "d=np.array([0,0,0,1,1])\n",
    "\n",
    "# Adding a column of '1' in front of x so that w_0 is the offset\n",
    "x=np.append(np.ones((len(x),1)),x,1)\n",
    "\n",
    "# Initializing the weights with zeros\n",
    "w=np.zeros(x.shape[1])\n",
    "\n",
    "# Initializing the perceptron predictions to zero\n",
    "y=np.zeros(len(x))\n",
    "\n",
    "# Perceptron learning parameters\n",
    "r=0.01 # learning rate\n",
    "iterations=100 # number of iterations\n",
    "\n",
    "for i in range(iterations):\n",
    "    for j in range(len(x)): # do this for every entry of x\n",
    "        y[j]=np.heaviside(np.dot(w,x[j,:]),1) # calculate the dot product and implement the \n",
    "                                              # cut-off using the Heaviside function\n",
    "        w=w+r*(d[j]-y[j])*x[j,:] # use learning rate to update weights\n",
    "        \n",
    "error=0;\n",
    "for j in range(len(x)):\n",
    "    error+=abs(d[j]-y[j])\n",
    "error=error/len(x)\n",
    "\n",
    "print('The error is ', error)\n",
    "print('The weight vector is ', w)\n",
    "\n",
    "colors=('red','green')\n",
    "for i in range(2):\n",
    "    px = x[:, 1][d == i]\n",
    "    py = x[:, 2][d == i]\n",
    "    plt.scatter(px, py, c=colors[i])\n",
    "\n",
    "plt.xlabel(\"X_1\")\n",
    "plt.ylabel(\"X_2\")\n",
    "plt.title(\"Simple Perceptron\")\n",
    "\n",
    "lx=np.linspace(min(x[:,1]),max(x[:,1]),100)\n",
    "plt.plot(lx,-w[a+1]/w[b+1]*lx-w[0]/w[b+1])\n",
    "#plt.show()"
   ]
  },
  {
   "cell_type": "markdown",
   "metadata": {},
   "source": [
    "Notice that the abo\n",
    "\n",
    "This example has also introduced two powerful Python libraries: numpy and matplotlib. To learn more, check out the following tutorials:\n",
    "\n",
    "- <a href=\"https://likegeeks.com/numpy-array-tutorial/\">NumPy array tutorial</a>\n",
    "- <a href=\"https://matplotlib.org/3.1.1/tutorials/index.html\">Matplotlib tutorial</a>"
   ]
  },
  {
   "cell_type": "markdown",
   "metadata": {},
   "source": [
    "### Geometric intepretation of the simple Perceptron\n",
    "What is the geometric interpretation of the weight vector? It is a separating hyperplane, that is a 1D line when $m=2$. This can be seen as follows: writing the dot product out yields\n",
    "\n",
    "\\begin{equation}\n",
    "w_1x_1+w_2x_2+b=0\n",
    "\\end{equation}\n",
    "\n",
    "As we plot $x_1$ along the x-axis and $x_2$ along the y-axis, we can write\n",
    "\n",
    "\\begin{equation}\n",
    "w_1x+w_2y+b=0\n",
    "\\end{equation}\n",
    "\n",
    "This can be rewritten into\n",
    "\\begin{equation}\n",
    "y=-\\frac{w1}{w2}x-\\frac{b}{w_2}\n",
    "\\end{equation}\n"
   ]
  },
  {
   "cell_type": "markdown",
   "metadata": {},
   "source": [
    "## Multi-layer Perceptron\n",
    "\n",
    "We can now combine multiple Perceptrons to create curved planes in order to classify data that cannot be "
   ]
  },
  {
   "cell_type": "markdown",
   "metadata": {},
   "source": [
    "# Literature\n",
    "\n",
    "<a href=\"https://psycnet.apa.org/record/1959-09865-001\">Rosenblatt, F. (1958). The perceptron: a probabilistic model for information storage and organization in the brain. Psychological review, 65(6), 386.</a>\n",
    "\n"
   ]
  }
 ],
 "metadata": {
  "kernelspec": {
   "display_name": "Python 3",
   "language": "python",
   "name": "python3"
  },
  "language_info": {
   "codemirror_mode": {
    "name": "ipython",
    "version": 3
   },
   "file_extension": ".py",
   "mimetype": "text/x-python",
   "name": "python",
   "nbconvert_exporter": "python",
   "pygments_lexer": "ipython3",
   "version": "3.6.5"
  }
 },
 "nbformat": 4,
 "nbformat_minor": 2
}
